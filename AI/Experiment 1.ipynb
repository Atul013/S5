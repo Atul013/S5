{
 "cells": [
  {
   "cell_type": "code",
   "execution_count": 1,
   "id": "dddb470f-7b28-485f-ad6f-258392f0ee09",
   "metadata": {},
   "outputs": [
    {
     "name": "stdout",
     "output_type": "stream",
     "text": [
      "Hello World !\n",
      "Welcome to Python programming.\n"
     ]
    }
   ],
   "source": [
    "print(\"Hello World !\")\n",
    "print(\"Welcome to Python programming.\")\n"
   ]
  },
  {
   "cell_type": "code",
   "execution_count": 3,
   "id": "c95e939c-93a5-4c7a-a4f5-929113fa9c42",
   "metadata": {},
   "outputs": [
    {
     "name": "stdout",
     "output_type": "stream",
     "text": [
      "<class 'int'>\n",
      "<class 'float'>\n",
      "<class 'str'>\n",
      "15.5\n",
      "Python is fun\n"
     ]
    }
   ],
   "source": [
    "a = 10\n",
    "b = 5.5\n",
    "c = 'Python'\n",
    "\n",
    "print (type(a))\n",
    "print (type(b))\n",
    "print (type(c))\n",
    "\n",
    "print (a+b)\n",
    "\n",
    "print(c + \" is fun\")"
   ]
  },
  {
   "cell_type": "code",
   "execution_count": 15,
   "id": "40d87acd-7e13-45a5-930b-5132301d9ae8",
   "metadata": {},
   "outputs": [
    {
     "name": "stdin",
     "output_type": "stream",
     "text": [
      "Enter a number:  10\n",
      "Enter a second number:  3\n"
     ]
    },
    {
     "name": "stdout",
     "output_type": "stream",
     "text": [
      "Addition of 10 and 3 gives : 13\n",
      "Subtraction of 10 and 3 gives : 7\n",
      "Multiplication of 10 and 3 gives : 30\n",
      "Division of 10 and 3 gives : 3.3333333333333335\n",
      "Floor Division of 10 and 3 gives : 3\n",
      "Modulo of 10 and 3 gives : 1\n",
      "Exponentiation of 10 and 3 gives : 1000\n"
     ]
    }
   ],
   "source": [
    "a = int(input(\"Enter a number: \"))\n",
    "b = int(input(\"Enter a second number: \"))\n",
    "print(f\"Addition of {a} and {b} gives : {a+b}\")\n",
    "print(f\"Subtraction of {a} and {b} gives : {a-b}\")\n",
    "print(f\"Multiplication of {a} and {b} gives : {a*b}\")\n",
    "print(f\"Division of {a} and {b} gives : {a/b}\")\n",
    "print(f\"Floor Division of {a} and {b} gives : {a//b}\")\n",
    "print(f\"Modulo of {a} and {b} gives : {a%b}\")\n",
    "print(f\"Exponentiation of {a} and {b} gives : {a**b}\")"
   ]
  },
  {
   "cell_type": "code",
   "execution_count": 14,
   "id": "f164342c-48c8-4a80-8bf4-4e886d1da197",
   "metadata": {},
   "outputs": [
    {
     "name": "stdout",
     "output_type": "stream",
     "text": [
      "You should go outside\n"
     ]
    }
   ],
   "source": [
    "is_sunny = True\n",
    "have_umbrella = False\n",
    "if is_sunny or have_umbrella :\n",
    "    print(\"You should go outside\")\n",
    "elif not is_sunny :\n",
    "    print(\"You should carry an umbrella\")\n"
   ]
  },
  {
   "cell_type": "code",
   "execution_count": 1,
   "id": "17934cd7-1777-4b92-9570-28c4ccc10e32",
   "metadata": {},
   "outputs": [
    {
     "name": "stdin",
     "output_type": "stream",
     "text": [
      "Enter a sentence :  hehe boi\n"
     ]
    },
    {
     "name": "stdout",
     "output_type": "stream",
     "text": [
      "The number of characters in the sentence is :  8\n",
      "Uppercased :  HEHE BOI\n",
      "Lowercased :  hehe boi\n",
      "hehe_boi\n",
      "The substring 'Python' is not present in the sentence\n"
     ]
    }
   ],
   "source": [
    "a = input(\"Enter a sentence : \")\n",
    "print(\"The number of characters in the sentence is : \", len(a))\n",
    "print(\"Uppercased : \", a.upper())\n",
    "print(\"Lowercased : \", a.lower())\n",
    "b = a.replace(\" \", \"_\")\n",
    "print(b)\n",
    "if \"Python\" in a :\n",
    "    print(\"The substring 'Python' is present in the sentence\")\n",
    "else :\n",
    "    print(\"The substring 'Python' is not present in the sentence\")"
   ]
  },
  {
   "cell_type": "code",
   "execution_count": 22,
   "id": "7b676226-f80e-447f-b14d-35a0066d7523",
   "metadata": {},
   "outputs": [
    {
     "name": "stdin",
     "output_type": "stream",
     "text": [
      "Enter a number :  13\n"
     ]
    },
    {
     "name": "stdout",
     "output_type": "stream",
     "text": [
      "Postive\n"
     ]
    }
   ],
   "source": [
    "a = int(input(\"Enter a number : \"))\n",
    "if a > 0 : \n",
    "    print(\"Postive\")\n",
    "elif a == 0:\n",
    "    print(\"Zero.\")\n",
    "else:\n",
    "    print(\"Negative\")"
   ]
  },
  {
   "cell_type": "code",
   "execution_count": 25,
   "id": "d927db40-d157-41a0-a93a-1860dae735e5",
   "metadata": {},
   "outputs": [
    {
     "name": "stdin",
     "output_type": "stream",
     "text": [
      "Enter the students marks (out of 100):  90\n"
     ]
    },
    {
     "name": "stdout",
     "output_type": "stream",
     "text": [
      "Grade A\n"
     ]
    }
   ],
   "source": [
    "a = int(input(\"Enter the students marks (out of 100): \"))\n",
    "if a >= 90 :\n",
    "    print(\"Grade A\")\n",
    "elif a >=75 :\n",
    "    print(\"Grade B\")\n",
    "elif a >=60 :\n",
    "    print(\"Grade C\")\n",
    "elif a >= 50:\n",
    "    print(\"Grade D\")\n",
    "elif a < 40:\n",
    "    print(\"Fail\")\n",
    "    "
   ]
  },
  {
   "cell_type": "code",
   "execution_count": 33,
   "id": "bfb5898f-87ec-4938-bb73-cd873c675428",
   "metadata": {},
   "outputs": [
    {
     "name": "stdin",
     "output_type": "stream",
     "text": [
      "Enter a number :  3\n",
      "Enter the second number:  0\n",
      "1.Addition \n",
      "2.Subtraction \n",
      "3.Multiplication \n",
      "4.Division \n",
      " Enter your choice :  4\n"
     ]
    },
    {
     "name": "stdout",
     "output_type": "stream",
     "text": [
      "Division by Zero error ! \n"
     ]
    }
   ],
   "source": [
    "a = int(input(\"Enter a number : \"))\n",
    "b = int(input(\"Enter the second number: \"))\n",
    "c = int(input(\"1.Addition \\n2.Subtraction \\n3.Multiplication \\n4.Division \\n Enter your choice : \"))\n",
    "if c == 1 :\n",
    "    print(f\"The sum of {a} and {b} is {a+b}\")\n",
    "elif c == 2 :\n",
    "    print(f\"The difference of {a} and {b} is {a-b}\")\n",
    "elif c == 3 :\n",
    "    print(f\"The product of {a} and {b} is {a*b}\")\n",
    "elif c == 4 :\n",
    "    if b == 0:\n",
    "        print(\"Division by Zero error ! \")\n",
    "        exit()\n",
    "    else:\n",
    "        print(f\"The quotient of {a} and {b} is {a/b}\")\n",
    "else :\n",
    "    print(\"Invalid choice !\")"
   ]
  },
  {
   "cell_type": "code",
   "execution_count": null,
   "id": "cd359c99-970e-4dc7-8b6b-565770273431",
   "metadata": {},
   "outputs": [],
   "source": []
  }
 ],
 "metadata": {
  "kernelspec": {
   "display_name": "Python 3 (ipykernel)",
   "language": "python",
   "name": "python3"
  },
  "language_info": {
   "codemirror_mode": {
    "name": "ipython",
    "version": 3
   },
   "file_extension": ".py",
   "mimetype": "text/x-python",
   "name": "python",
   "nbconvert_exporter": "python",
   "pygments_lexer": "ipython3",
   "version": "3.10.12"
  }
 },
 "nbformat": 4,
 "nbformat_minor": 5
}
